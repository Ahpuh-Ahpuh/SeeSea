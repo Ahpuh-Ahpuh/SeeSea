{
  "cells": [
    {
      "cell_type": "code",
      "execution_count": null,
      "metadata": {
        "colab": {
          "base_uri": "https://localhost:8080/"
        },
        "id": "mbCh-SeC-tgm",
        "outputId": "3af85e7e-fd6d-4982-b4a2-20b395154075"
      },
      "outputs": [
        {
          "output_type": "stream",
          "name": "stdout",
          "text": [
            "Cloning into 'yolov5'...\n",
            "remote: Enumerating objects: 15656, done.\u001b[K\n",
            "remote: Counting objects: 100% (263/263), done.\u001b[K\n",
            "remote: Compressing objects: 100% (165/165), done.\u001b[K\n",
            "remote: Total 15656 (delta 133), reused 173 (delta 98), pack-reused 15393\u001b[K\n",
            "Receiving objects: 100% (15656/15656), 14.65 MiB | 28.05 MiB/s, done.\n",
            "Resolving deltas: 100% (10661/10661), done.\n"
          ]
        }
      ],
      "source": [
        "!git clone https://github.com/ultralytics/yolov5.git"
      ]
    },
    {
      "cell_type": "code",
      "execution_count": null,
      "metadata": {
        "colab": {
          "base_uri": "https://localhost:8080/"
        },
        "id": "94-CSGwUmeeL",
        "outputId": "735d3f8c-5b3b-4bfa-e383-825985b38625"
      },
      "outputs": [
        {
          "output_type": "stream",
          "name": "stdout",
          "text": [
            "/content/yolov5\n"
          ]
        }
      ],
      "source": [
        "%cd yolov5"
      ]
    },
    {
      "cell_type": "code",
      "execution_count": null,
      "metadata": {
        "id": "P7qIfy5nIDZ5"
      },
      "outputs": [],
      "source": [
        "!pip install -r requirements.txt"
      ]
    },
    {
      "cell_type": "code",
      "execution_count": null,
      "metadata": {
        "id": "Ba4eDGQ8mqeY",
        "colab": {
          "base_uri": "https://localhost:8080/"
        },
        "outputId": "65b71ec7-739c-4ca5-ee34-6474d3b23344"
      },
      "outputs": [
        {
          "output_type": "stream",
          "name": "stdout",
          "text": [
            "/content\n"
          ]
        }
      ],
      "source": [
        "%cd .."
      ]
    },
    {
      "cell_type": "code",
      "execution_count": null,
      "metadata": {
        "id": "zfU_MIypIIOE"
      },
      "outputs": [],
      "source": [
        "!curl -L \"https://universe.roboflow.com/ds/k9FvUHq76M?key=ur0XQLuorx\" > roboflow.zip; unzip roboflow.zip; rm roboflow.zip"
      ]
    },
    {
      "cell_type": "code",
      "execution_count": null,
      "metadata": {
        "id": "2kC9ffGZIZlc"
      },
      "outputs": [],
      "source": [
        "from glob import glob\n",
        "img_list = glob('/content/train/images/*.jpg')\n",
        "val_img_list = glob('/content/valid/images/*.jpg')"
      ]
    },
    {
      "cell_type": "code",
      "execution_count": null,
      "metadata": {
        "id": "Od-tclRlIwrS"
      },
      "outputs": [],
      "source": [
        "with open('/content/train.txt', 'w') as f:\n",
        "    f.write('\\n'.join(img_list) + '\\n')"
      ]
    },
    {
      "cell_type": "code",
      "execution_count": null,
      "metadata": {
        "id": "YrIJunxsI5WG"
      },
      "outputs": [],
      "source": [
        "with open('/content/test.txt', 'w') as f:\n",
        "    f.write('\\n'.join(val_img_list) + '\\n')"
      ]
    },
    {
      "cell_type": "code",
      "execution_count": 1,
      "metadata": {
        "id": "0Ia7POOnJEGJ",
        "colab": {
          "base_uri": "https://localhost:8080/"
        },
        "outputId": "93a677b3-99d8-442c-e252-3f68ae22b675"
      },
      "outputs": [
        {
          "output_type": "stream",
          "name": "stdout",
          "text": [
            "[Errno 2] No such file or directory: 'yolov5'\n",
            "/content\n",
            "python3: can't open file '/content/train.py': [Errno 2] No such file or directory\n"
          ]
        }
      ],
      "source": [
        "##여기를 바꿔야함!! \n",
        "%cd yolov5\n",
        "!python train.py --img 320 --batch 10 --epochs 20 --data /content/data.yaml --weights yolov5s.pt --name result_jetbot --cfg ./models/yolov5s.yaml"
      ]
    },
    {
      "cell_type": "code",
      "source": [
        "##weights부분 수정해야함~\n",
        "!python detect.py --weights /content/yolov5/runs/train/result_jetbot4/weights/best.pt --source /content/yolov5/data1.mp4"
      ],
      "metadata": {
        "id": "_PK5t5qUmyyH"
      },
      "execution_count": null,
      "outputs": []
    }
  ],
  "metadata": {
    "accelerator": "GPU",
    "colab": {
      "provenance": []
    },
    "gpuClass": "standard",
    "kernelspec": {
      "display_name": "Python 3",
      "name": "python3"
    },
    "language_info": {
      "name": "python"
    }
  },
  "nbformat": 4,
  "nbformat_minor": 0
}